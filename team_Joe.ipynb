{
  "nbformat": 4,
  "nbformat_minor": 0,
  "metadata": {
    "colab": {
      "name": "team_Joe.ipynb",
      "provenance": [],
      "collapsed_sections": [],
      "toc_visible": true
    },
    "kernelspec": {
      "display_name": "Python 3",
      "name": "python3"
    }
  },
  "cells": [
    {
      "cell_type": "markdown",
      "metadata": {
        "id": "NTiGWeLk66bx"
      },
      "source": [
        "# <center> **Resampling Plans for Bootstrap** </center>\n",
        "\n",
        "### <center> Ludovic Figarella, Arnaud Venencie </center> "
      ]
    },
    {
      "cell_type": "markdown",
      "metadata": {
        "id": "xymfFn68dt72"
      },
      "source": [
        "#Enoncé\n",
        "The student shall run some test in order to investigate different resampling schemes than the one used in Efron’s original bootstrap (see for instance Proposition 2.16 of the lecture notes). He will first present the different resampling plans and if possible explain why they are working. He will compare them through well chosen examples."
      ]
    },
    {
      "cell_type": "markdown",
      "metadata": {
        "id": "QoDev4PzeGmE"
      },
      "source": [
        "#Introduction \n",
        "\n",
        "Nous avons vu en cours le schéma de bootstrap proposé par Bradley Efron. Par la suite, de nombreux autres schémas ont été proposés. Nous tacherons dans ce projet, de présenter différents schémas de rééchantillonnage.\n",
        "\n",
        "Dans un premier temps, nous présenterons rapidement le bootstrap proposé par Efron, et nous l'appliquerons sur un exemple.\n",
        "\n",
        "Puis nous présenterons le bootstrap paramétrique en le comparant au bootstrap Efron à travers un exemple.\n",
        "\n",
        "Nous tâcherons d'expliquer le fonctionnement du Fractional Random Weight Resampling, une forme de rééchantillonage avec des poids. Nous l'analyserons de manière plus théorique et nous le comparerons à travers un exemple au bootstrap d'Efron.\n",
        "\n",
        "Nous expliquerons ensuite le fonctionnement du smoothed bootstrap, et présenterons brièvement d'autres schémas de bootstrap. "
      ]
    },
    {
      "cell_type": "markdown",
      "metadata": {
        "id": "XmSIkNsrjFdX"
      },
      "source": [
        "# Import"
      ]
    },
    {
      "cell_type": "code",
      "metadata": {
        "id": "GiiRrkM_u_-T"
      },
      "source": [
        "import matplotlib.pyplot as plt\n",
        "import numpy as np\n",
        "from scipy import stats\n",
        "import scipy.special as sps  \n",
        "import random\n",
        "import math as mt"
      ],
      "execution_count": null,
      "outputs": []
    },
    {
      "cell_type": "markdown",
      "metadata": {
        "id": "ipwKYeILbChy"
      },
      "source": [
        "# I. Le bootstrap d'Efron"
      ]
    },
    {
      "cell_type": "markdown",
      "metadata": {
        "id": "q38t-nuAqECC"
      },
      "source": [
        "Le principe du bootstrap est d'approcher par simulation la distribution d'un estimateur. On note la distribution $F$, inconnue, de l'échantillon. Cette derniere est subsitué par la distribution emprique notée $\\hat{F}$. On va ensuite générer de nouveaux échantillons suivant cette loi $\\hat{F}$. Ainsi pour générer ces nouveaux échantillons, on va réaliser $n$ tirages aléatoires avec remise de notre échantillon de départ."
      ]
    },
    {
      "cell_type": "markdown",
      "metadata": {
        "id": "80Qvnf8bbKj6"
      },
      "source": [
        "L'algorithme est le suivant : \n",
        "\n",
        "$X$ notre échantillon, de parametre $\\theta$\n",
        "\n",
        "\n",
        "*   Pour b allant de 1 à B:\n",
        "\n",
        "> *   On génère un échantillon bootstrap $X_{b}^{*}$\n",
        "> *   On calcule la statistique $\\theta_{b}^{*}$ sur le nouvel échantillon\n",
        "\n",
        "L'estimateur bootstrap de $\\theta$ est $\\hat{\\theta}^{*}=\\frac{1}{B} \\sum_{b=1}^{B} \\hat{\\theta}^{*}_{b}.$"
      ]
    },
    {
      "cell_type": "markdown",
      "metadata": {
        "id": "4rhASd1rAksQ"
      },
      "source": [
        "## Application \n",
        "\n",
        "Appliquons de maniere très simple notre algorithme bootstrap à une population. \n",
        "\n",
        "On possede une dizaine d'obervations de moyenne 2.87 et de médiane 2.8.  \n",
        "Ici on se concentrera sur la création d'une fonction générique pour le bootstrap d'Efron."
      ]
    },
    {
      "cell_type": "code",
      "metadata": {
        "id": "hqJoQ_1cat8s"
      },
      "source": [
        "pop = np.array([2.3, 3.4, 2.5, 3.2, 2.7, 2.6, 3.1, 3.5,2.9,2.5])"
      ],
      "execution_count": null,
      "outputs": []
    },
    {
      "cell_type": "code",
      "metadata": {
        "colab": {
          "base_uri": "https://localhost:8080/"
        },
        "id": "BrsG7Kl6cbCf",
        "outputId": "ffa002cf-8aad-46f3-99a2-2a86f8602ada"
      },
      "source": [
        "pop_mean = pop.mean()\n",
        "pop_med = np.median(pop)\n",
        "print('Moyenne de notre population :', pop_mean)\n",
        "print('Mediane de notre population :',pop_med)"
      ],
      "execution_count": null,
      "outputs": [
        {
          "output_type": "stream",
          "text": [
            "Moyenne de notre population : 2.8699999999999997\n",
            "Mediane de notre population : 2.8\n"
          ],
          "name": "stdout"
        }
      ]
    },
    {
      "cell_type": "code",
      "metadata": {
        "id": "gRfQdzQHcf9W"
      },
      "source": [
        "def bootstrap(data, n=100, func=np.mean):\n",
        "    \"\"\"\n",
        "    Génération de n échantillons bootstrap, en évaluant\n",
        "    'func' à chaque fois.\n",
        "    Retourne n estimations.\n",
        "    \"\"\"\n",
        "    simulations = list()\n",
        "    sample_size = len(data)\n",
        "    xbar_init = np.mean(data)\n",
        "    for c in range(n):\n",
        "        itersample = np.random.choice(data, size=sample_size, replace=True)\n",
        "        simulations.append(func(itersample))\n",
        "    simulations.sort()\n",
        "    return(simulations)\n"
      ],
      "execution_count": null,
      "outputs": []
    },
    {
      "cell_type": "markdown",
      "metadata": {
        "id": "1IKU_v-9Vgit"
      },
      "source": [
        "## Résultat"
      ]
    },
    {
      "cell_type": "code",
      "metadata": {
        "colab": {
          "base_uri": "https://localhost:8080/"
        },
        "id": "3VkVDqEmd1n1",
        "outputId": "e9f1a8ff-c164-4d30-b9ce-7cce050f99ab"
      },
      "source": [
        "bootstrap_mean = np.mean(bootstrap(pop))\n",
        "bootstrap_med = np.mean(bootstrap(pop,func= np.median))\n",
        "print('Bootstrap moyenne :',bootstrap_mean)\n",
        "print('Bootstap mediane :',bootstrap_med )"
      ],
      "execution_count": null,
      "outputs": [
        {
          "output_type": "stream",
          "text": [
            "Bootstrap moyenne : 2.881099999999999\n",
            "Bootstap mediane : 2.8104999999999993\n"
          ],
          "name": "stdout"
        }
      ]
    },
    {
      "cell_type": "markdown",
      "metadata": {
        "id": "qucBIW-aWDgF"
      },
      "source": [
        "On remarque que notre estimation via le bootstrap d'Efron approche très bien les valeurs réelles.\n",
        "\n",
        "On peut aussi pour chaque estimateur tracer la distribution empirique."
      ]
    },
    {
      "cell_type": "code",
      "metadata": {
        "colab": {
          "base_uri": "https://localhost:8080/",
          "height": 281
        },
        "id": "23Q0ymCmWMdG",
        "outputId": "80f5c2f9-8f50-47ed-84f8-707f941e3580"
      },
      "source": [
        "plt.hist(bootstrap(pop))\n",
        "plt.title(\"Histogramme de la moyenne des échantillons bootstrap\")\n",
        "plt.show()"
      ],
      "execution_count": null,
      "outputs": [
        {
          "output_type": "display_data",
          "data": {
            "image/png": "[encoded data removed]",
            "text/plain": [
              "<Figure size 432x288 with 1 Axes>"
            ]
          },
          "metadata": {
            "tags": [],
            "needs_background": "light"
          }
        }
      ]
    },
    {
      "cell_type": "markdown",
      "metadata": {
        "id": "Csc86Qspi0tZ"
      },
      "source": [
        "#II. Bootstrap paramétrique"
      ]
    },
    {
      "cell_type": "markdown",
      "metadata": {
        "id": "HYFg65HQkCbQ"
      },
      "source": [
        "Le bootstrap paramétrique est une méthode utile pour l'estimation du biais et de la variance\n",
        "quand on sait que l'échantillon provient d'une population ayant une distribtion $F$,\n",
        "qui est un membre d'une famille paramétrique de distribution de \n",
        "paramètre inconnu, ou ensemble de paramètres, µ : $F \\in\\left\\{F_{\\phi}: \\phi \\in \\Phi\\right\\}$\n",
        "\n",
        "\n",
        "Par exemple:\n",
        "\n",
        "\n",
        "\n",
        "*   $F$ distibution normale, $F \\in\\left\\{F_{\\left(\\mu, \\sigma^{2}\\right)}: \\mu \\in R, \\sigma^{2} \\in R_{+}\\right\\}$ où $F_{\\left(\\mu, \\sigma^{2}\\right)}$ est une distribution d'une variable aléatoire normale.\n",
        "\n",
        "\n",
        "\n",
        "\n"
      ]
    },
    {
      "cell_type": "markdown",
      "metadata": {
        "id": "OvYWTH-ilaOu"
      },
      "source": [
        "Dans une telle situation, la distribution empirique $\\hat{F}$ est un membre de la famille de paramètre $\\hat{\\phi}$, avec $\\hat{\\phi}$ une estimation de $\\phi$.\n",
        "\n",
        "Par conséquent, pour calculer le biais et la variance de certains\n",
        "paramètres $\\theta$, nous simulons des échantillons bootstrap à partir de la distribution empirique, \n",
        "$\\hat{F}  ≡ F_{\\hat{\\phi}}$ et nous calculons les estimations bootstrap de $\\hat{\\phi}$.\n",
        "\n",
        "$\\theta$ peut être le même que $\\phi$, mais il peut aussi être une fonction de $\\phi$. Ainsi on peut représenter la procédure du bootstrap paramétrique de la manière suivante:"
      ]
    },
    {
      "cell_type": "markdown",
      "metadata": {
        "id": "cZBF0HyimvhP"
      },
      "source": [
        "![image.png](data:image/png;base64,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)"
      ]
    },
    {
      "cell_type": "markdown",
      "metadata": {
        "id": "z2a4W-bcWkRK"
      },
      "source": [
        "## Changer le schema"
      ]
    },
    {
      "cell_type": "markdown",
      "metadata": {
        "id": "yPwMG5727SiU"
      },
      "source": [
        "## Application \n"
      ]
    },
    {
      "cell_type": "markdown",
      "metadata": {
        "id": "E9d7J2iQ7iYU"
      },
      "source": [
        "On a une population $X = \\{ X_{1},...., X_{n} \\}$ avec $X_{i} \\sim \\operatorname{Exp}(\\lambda)$, pour tout $i$ allant de $1$ à $n$, et $\\lambda$ est inconnu. La distribution empirique  $F$ et la fonction de densité f :\n",
        "\n",
        "$F(x)=\\left\\{\\begin{array}{ll}0 & \\text { if } x \\leq 0 \\\\ 1-e^{-\\lambda x} & \\text { if } x>0\\end{array}\\right.$\n",
        "\n",
        "\n",
        "$f(x)=\\left\\{\\begin{array}{ll}0 & \\text { if } x \\leq 0 \\\\ \\lambda e^{-\\lambda x} & \\text { if } x>0\\end{array}\\right.$"
      ]
    },
    {
      "cell_type": "markdown",
      "metadata": {
        "id": "OAFo5CK18K2J"
      },
      "source": [
        "On sait que pour une loi exponentielle, $E\\left(X_{i}\\right)=\\frac{1}{\\lambda}$, et donc que $\\bar{X}$ est un estimateur sans biais de $\\frac{1}{\\lambda}$. \n",
        "\n",
        "Ainsi, $\\hat{\\lambda}=\\frac{1}{\\bar{X}}$ peut être utilisé pour obtenir la distribution empirique, c'est à dire: $F_{\\hat{\\lambda}}=\\hat{F}_{\\frac{1}{\\bar{X}}}$. On va générer des échantillons depuis $\\operatorname{Exp}\\left(\\frac{1}{\\bar{X}}\\right)$."
      ]
    },
    {
      "cell_type": "markdown",
      "metadata": {
        "id": "bQT_Mh_W-raj"
      },
      "source": [
        "### Population\n",
        "Appliquons à un exemple industriel notre bootstrap paramétrique. Un ingénieur sait qu'un composant électronique a une durée de vie utile représentée par une\n",
        "densité exponentielle avec le taux λ de défaillances par heure. Le temps moyen avant défaillance\n",
        "est donc $E\\left(X\\right)=\\frac{1}{\\lambda}$\n",
        ". Une série de 100 observations  suivant la loi $\\operatorname{Exp}(\\lambda= \\frac{1}{50})$ a donné une estimation de la moyenne\n",
        "$\\bar{X}$ = 49.99 heures. Il y avait 40 composants qui avaient une durée de vie plus courte qu'un\n",
        "jour. Un ingénieur s'intéresse à la fraction des composants qui\n",
        "échoue en moins de 24 heures."
      ]
    },
    {
      "cell_type": "code",
      "metadata": {
        "colab": {
          "base_uri": "https://localhost:8080/",
          "height": 314
        },
        "id": "RU8puk6NE_T_",
        "outputId": "1cef7245-5b96-4e21-d3a5-6b75deb4ec0a"
      },
      "source": [
        "np.random.seed(33)\n",
        "pop_electronique = np.random.exponential(scale=50, size=100)\n",
        "\n",
        "pop_mean = np.mean(pop_electronique)\n",
        "print(\"Nombre de composants qui durent moins d'une journée :\", (pop_electronique<24).sum())\n",
        "print(\"Moyenne de durée de vie :\", pop_mean)\n",
        "\n",
        "plt.title(\"Histogramme de la durée de vie de chaque composant electronique\")\n",
        "plt.hist(pop_electronique)\n",
        "plt.show()"
      ],
      "execution_count": null,
      "outputs": [
        {
          "output_type": "stream",
          "text": [
            "Nombre de composants qui durent moins d'une journée : 38\n",
            "Moyenne de durée de vie : 49.99301446047064\n"
          ],
          "name": "stdout"
        },
        {
          "output_type": "display_data",
          "data": {
            "image/png": "[encoded data removed]",
            "text/plain": [
              "<Figure size 432x288 with 1 Axes>"
            ]
          },
          "metadata": {
            "tags": [],
            "needs_background": "light"
          }
        }
      ]
    },
    {
      "cell_type": "markdown",
      "metadata": {
        "id": "s_yyyPTLFe0n"
      },
      "source": [
        "Ainsi on essaye d'estimer la fraction des composants qui dure moins de 24h.\n",
        "\n",
        "Ici:   $\\hat{\\theta}= 38 $"
      ]
    },
    {
      "cell_type": "markdown",
      "metadata": {
        "id": "s90aL7-FGW_N"
      },
      "source": [
        "### Avec le bootstrap paramétrique"
      ]
    },
    {
      "cell_type": "markdown",
      "metadata": {
        "id": "9Pz0jilZGSUU"
      },
      "source": [
        "On va ainsi créer 500 échantillons bootstrap. Ces échantillons sont créés à partir de Loi exponentielle de paramètre $\\hat{\\lambda} = \\frac{1}{50}$.\n",
        "\n",
        "L'algorithme est le suivant :\n",
        "\n",
        "$X$ notre échantillon, de paramètre $\\theta$\n",
        "\n",
        "*   Pour $b$  allant  de  $1$ à $B =500$:\n",
        "\n",
        "> *   On génère un échantillon bootstrap $X_{b}^{*}  \\sim \\operatorname{Exp}(\\hat{\\lambda})$\n",
        "> *   On calcule la statistique $\\theta_{b}^{*}$ sur le nouvel échantillon, donc le nombre d'observations inférieur à 24\n",
        "\n",
        "L'estimateur bootstrap de $\\theta$ est $\\hat{\\theta}^{*}=\\frac{1}{B} \\sum_{b=1}^{B} \\hat{\\theta}^{*}_{b}.$\n"
      ]
    },
    {
      "cell_type": "code",
      "metadata": {
        "id": "9XGIFFctmu9J"
      },
      "source": [
        "theta_hat = (pop_electronique<24).sum()/100 # On s'interesse au nombre de composants échoués en 24h \n",
        "theta_star = []\n",
        "for i in range(500):\n",
        "  intersample = np.random.exponential(scale=pop_mean, size=100) # On genere un sample a partir des observations \n",
        "  theta_star_i = 1-np.exp((-1/np.mean(intersample))*24)  # EN utilisant la formule de cdf \n",
        "  theta_star.append(theta_star_i)"
      ],
      "execution_count": null,
      "outputs": []
    },
    {
      "cell_type": "code",
      "metadata": {
        "colab": {
          "base_uri": "https://localhost:8080/",
          "height": 281
        },
        "id": "eGM_klLrCF7Y",
        "outputId": "85969117-5360-43e6-b0f5-d0ebe926f1d3"
      },
      "source": [
        "plt.title(\"Histogramme de la proportion de composants qui dure moins d'une journée pour chaque échantillon créé\")\n",
        "plt.hist(theta_star)\n",
        "plt.axvline(x=theta_hat, color = 'red')\n",
        "plt.show()"
      ],
      "execution_count": null,
      "outputs": [
        {
          "output_type": "display_data",
          "data": {
            "image/png": "[encoded data removed]",
            "text/plain": [
              "<Figure size 432x288 with 1 Axes>"
            ]
          },
          "metadata": {
            "tags": [],
            "needs_background": "light"
          }
        }
      ]
    },
    {
      "cell_type": "code",
      "metadata": {
        "colab": {
          "base_uri": "https://localhost:8080/"
        },
        "id": "TJsnsfJYCWP-",
        "outputId": "83ea37a6-4a9e-437f-c700-e87d0c9d6b33"
      },
      "source": [
        "print('Bootstrap mean :', np.mean(theta_star))\n",
        "print('Bootstrap biais :', np.mean(theta_star) - theta_hat )\n",
        "print('Bootstrap var :', np.var(theta_star))\n",
        "print('Bootstrap ecart type :', np.sqrt(np.var(theta_star)))"
      ],
      "execution_count": null,
      "outputs": [
        {
          "output_type": "stream",
          "text": [
            "Bootstrap mean : 0.3844265964373129\n",
            "Bootstrap biais : 0.004426596437312913\n",
            "Bootstrap var : 0.000841665442973456\n",
            "Bootstrap ecart type : 0.029011470886072907\n"
          ],
          "name": "stdout"
        }
      ]
    },
    {
      "cell_type": "markdown",
      "metadata": {
        "id": "3YMPkNtlGbOs"
      },
      "source": [
        "### Avec le Bootstrap Efron"
      ]
    },
    {
      "cell_type": "markdown",
      "metadata": {
        "id": "sJtM80fLM61F"
      },
      "source": [
        "L'algorithme est le suivant : \n",
        "\n",
        "$X$ notre échantillon, de paramètre $\\theta$\n",
        "\n",
        "*   Pour $b$  allant  de  $1$ à $B =500$:\n",
        "\n",
        "> *   On génere un échantillon bootstrap $X_{b}^{*}$ par tirage aléatoire avec remise\n",
        "> *   On calcule la statistique $\\theta_{b}^{*}$ sur le nouvel échantillon, donc le nombre d'observations inférieur à 24"
      ]
    },
    {
      "cell_type": "code",
      "metadata": {
        "id": "FkRFL6s4Cem1"
      },
      "source": [
        "theta_star_efron = list()\n",
        "for i in range(500):  # generate a bootstrap sample a each time n\n",
        "  itersample = np.random.choice(pop_electronique, size=100, replace=True)\n",
        "  theta_star_efron_i = (itersample<24).sum()/100\n",
        "  theta_star_efron.append(theta_star_efron_i)"
      ],
      "execution_count": null,
      "outputs": []
    },
    {
      "cell_type": "code",
      "metadata": {
        "colab": {
          "base_uri": "https://localhost:8080/",
          "height": 281
        },
        "id": "YBAyrDinHhbe",
        "outputId": "0f551b8a-93ef-4f2b-8db5-920edbc93b1f"
      },
      "source": [
        "plt.title(\"Histogramme de la proportion de composants qui dure moins d'une journée pour chaque echantillon crée\")\n",
        "plt.hist(theta_star_efron)\n",
        "plt.axvline(x=theta_hat, color = 'red')\n",
        "plt.show()"
      ],
      "execution_count": null,
      "outputs": [
        {
          "output_type": "display_data",
          "data": {
            "image/png": "[encoded data removed]",
            "text/plain": [
              "<Figure size 432x288 with 1 Axes>"
            ]
          },
          "metadata": {
            "tags": [],
            "needs_background": "light"
          }
        }
      ]
    },
    {
      "cell_type": "code",
      "metadata": {
        "colab": {
          "base_uri": "https://localhost:8080/"
        },
        "id": "DnYA5TMZHk9y",
        "outputId": "8c6dc72e-1927-4642-b012-cfa1408e6db2"
      },
      "source": [
        "print('Bootstrap mean :', np.mean(theta_star_efron))\n",
        "print('Bootstrap biais :', np.mean(theta_star_efron) -theta_hat )\n",
        "print('Bootstrap var :', np.var(theta_star_efron))\n",
        "print('Bootstrap ecart type :', np.sqrt(np.var(theta_star_efron)))"
      ],
      "execution_count": null,
      "outputs": [
        {
          "output_type": "stream",
          "text": [
            "Bootstrap mean : 0.38221999999999995\n",
            "Bootstrap biais : 0.0022199999999999442\n",
            "Bootstrap var : 0.0023764715999999996\n",
            "Bootstrap ecart type : 0.04874906768339267\n"
          ],
          "name": "stdout"
        }
      ]
    },
    {
      "cell_type": "markdown",
      "metadata": {
        "id": "qQFsXVNDXUsn"
      },
      "source": [
        "## Résultat\n",
        "\n",
        "On remarque que la valeur des etimateurs bootstrap est sensiblement la même pour le bootstrap paramétrique et le bootstrap Efron. De plus on peut noter qu'on obtient un plus petit écart type des valeurs de la moyenne de nos échantillons bootstrap pour le bootstrap paramétrique."
      ]
    },
    {
      "cell_type": "markdown",
      "metadata": {
        "id": "kU6HfY_fJnxS"
      },
      "source": [
        "#### Intervalle de confiance"
      ]
    },
    {
      "cell_type": "code",
      "metadata": {
        "colab": {
          "base_uri": "https://localhost:8080/"
        },
        "id": "bZ2Qsh_-I5un",
        "outputId": "49b21768-f771-4c08-e195-d079491e9796"
      },
      "source": [
        "def ci(p,simulations):   # return confindence interval \n",
        "    \"\"\"\n",
        "    Return 2-sided symmetric confidence interval specified\n",
        "    by p.\n",
        "    \"\"\"\n",
        "    n = len(simulations)\n",
        "    simulations = sorted(simulations)\n",
        "    u_pval = (1+p)/2.\n",
        "    l_pval = (1-u_pval)\n",
        "    l_indx = int(np.floor(n*l_pval))\n",
        "    u_indx = int(np.floor(n*u_pval))\n",
        "    return(round(simulations[l_indx], 3), round(simulations[u_indx], 3))\n",
        "\n",
        "cintervals_bootstrap_efron = [ci(p,theta_star_efron) for p in (.90, .95, .99, .995)]\n",
        "cintervals_bootstrap_param =[ci(p,theta_star) for p in (.90, .95, .99, .995)]\n",
        "print(\"Intervalle de confiance de bootstrap Efron :\", cintervals_bootstrap_efron)\n",
        "print(\"Intervalle de confiance de bootstrap paramétrique :\", cintervals_bootstrap_param)"
      ],
      "execution_count": null,
      "outputs": [
        {
          "output_type": "stream",
          "text": [
            "Intervalle de confiance de bootstrap Efron : [(0.3, 0.46), (0.28, 0.47), (0.26, 0.51), (0.24, 0.51)]\n",
            "Intervalle de confiance de bootstrap paramétrique : [(0.34, 0.435), (0.326, 0.447), (0.314, 0.461), (0.313, 0.465)]\n"
          ],
          "name": "stdout"
        }
      ]
    },
    {
      "cell_type": "markdown",
      "metadata": {
        "id": "r8qEFkrRWuCX"
      },
      "source": [
        "On remarque ici que l'on obtient de meilleurs intervalles de confiance pour le bootstrap paramétrique. En effet pour un intervalle à 95%  par exemple, on obtient $[0.326, 0.447]$ pour le bootstrap paramétrique contre $[0.28, 0.47]$ pour le bootstrap Efron."
      ]
    },
    {
      "cell_type": "markdown",
      "metadata": {
        "id": "ZFRS29OmYPBh"
      },
      "source": [
        "Ainsi pour cet exemple, l'application d'un schema de bootstrap paramétrique semble meilleure que la version classique du Bootstrap Efron."
      ]
    },
    {
      "cell_type": "markdown",
      "metadata": {
        "id": "Mf6-A4iWx-t3"
      },
      "source": [
        "#III. Fractional Random Weight Resampling"
      ]
    },
    {
      "cell_type": "markdown",
      "metadata": {
        "id": "vs2ypmGkSuyP"
      },
      "source": [
        "## Présentation\n",
        "\n",
        "L'idée d'un rééchantillonnage avec des poids est apparue rapidement après la méthode proposée par Efron. Elle permet de faire face à un déséquilibre dans un jeu de données d'apprentissage. La méthode est simple, il suffit d'associer un poids $w_i \\in \\mathbb{N}$ à chaque observation $X_i$, de manière à ce que la somme des poids soit égale au nombre de données $n$. \n",
        "\n",
        "Sous l'idée de rééchantillonage avec des poids, le bootstrap d'Efron peut se réécrire de manière équivalente comme suit: on tire des poids suivant une distribution multinomiale de probabilité uniforme $\\frac{1}{n}$ pour chacune des observations $X_i$. Le vecteur de poids $(w_1,...,w_n)$ suit alors une distribution multinomiale uniforme. $(w_1,...,w_n)$ a alors pour espérance 1 et variance $\\frac{n-1}{n}$.\n",
        "\n",
        "\\\n",
        "\n",
        "L'idée derrière le Fractional Weight Resampling est de réaliser un bootstrap en utilisant des poids continus. On génère un vecteur de poids $(w_1, ..., w_n)$ suivant une loi de Dirichlet uniforme, multplié par $n$.\n",
        "\n",
        "La loi de Dirichlet a pour fonction de densité de probabilité: $f(w_1,...w_n; \\alpha_1,...\\alpha_n) = \\frac{1}{B(\\alpha_1,...\\alpha_n)}*\\prod_{i=1}^n w_i^{\\alpha_i - 1}$, avec $\\sum_{i=1}^n w_i = 1$ et $w_i \\geq 0$, où $B(\\alpha_1,...\\alpha_n)$ est le facteur qui normalise, défini par $B(\\alpha)=\\frac{\\prod_{i=1}^{K} \\Gamma\\left(\\alpha_{i}\\right)}{\\Gamma\\left(\\sum_{i=1}^{K} \\alpha_{i}\\right)}$\n",
        "\n",
        "Le cas uniforme est celui où on a $\\alpha_i = 1, \\forall i \\in [1,n]$, soit  $B(\\alpha)=1$. On a dans ce cas là une espérance égale à 1, et une variance valant $\\frac{n-1}{n+1}$.\n"
      ]
    },
    {
      "cell_type": "code",
      "metadata": {
        "id": "nPjh9ylCXgjM"
      },
      "source": [
        "# Génération de vecteurs de poids qui vont être utilisés pour le bootstrap\n",
        "\n",
        "n = 1000\n",
        "B = 1000\n",
        "\n",
        "weights = n*np.random.dirichlet([1]*n, B)"
      ],
      "execution_count": null,
      "outputs": []
    },
    {
      "cell_type": "code",
      "metadata": {
        "colab": {
          "base_uri": "https://localhost:8080/"
        },
        "id": "3ShDJfBsaOvQ",
        "outputId": "231b078a-7dac-417d-b8be-498228953c5b"
      },
      "source": [
        "mult_dist = np.random.multinomial(1000, [1/n]*n, size=2)\n",
        "\n",
        "print('Espérance premier ech :', np.mean(mult_dist[0]))\n",
        "print('Espérance deuxieme ech :', np.mean(mult_dist[1]))\n",
        "print('Variance premier ech :', np.var(mult_dist[0]))\n",
        "print('Variance deuxième ech :', np.var(mult_dist[1]))"
      ],
      "execution_count": null,
      "outputs": [
        {
          "output_type": "stream",
          "text": [
            "Espérance premier ech : 1.0\n",
            "Espérance deuxieme ech : 1.0\n",
            "Variance premier ech : 1.004\n",
            "Variance deuxième ech : 1.014\n"
          ],
          "name": "stdout"
        }
      ]
    },
    {
      "cell_type": "markdown",
      "metadata": {
        "id": "8lLqpx67yVYu"
      },
      "source": [
        "## Application"
      ]
    },
    {
      "cell_type": "markdown",
      "metadata": {
        "id": "h40aIj-fgctn"
      },
      "source": [
        "Comparons les méthodes pour une loi $\\Gamma(k, \\theta)$.\n",
        "\n",
        "Pour une telle loi, on sait que l'on a, pour un échantillon $X_i$ tiré selon cette loi, $\\mathbb{E}(X_i) = k*\\theta$, et $\\mathbb{Var}(X_i) = k*\\theta^2$."
      ]
    },
    {
      "cell_type": "code",
      "metadata": {
        "colab": {
          "base_uri": "https://localhost:8080/",
          "height": 265
        },
        "id": "YI7YlJZkNnN0",
        "outputId": "01c0e766-8e95-420e-8c14-a092eedf0cc3"
      },
      "source": [
        "# Loi gamma avec peu d'observations (1000)\n",
        "\n",
        "k = 2 #shape\n",
        "theta = 100 # scale\n",
        "dist = np.random.gamma(k, theta, 1000)\n",
        "\n",
        "count, bins, ignored = plt.hist(dist, 50, density=True)\n",
        "y = bins**(k-1)*(np.exp(-bins/theta) /  \n",
        "                     (sps.gamma(k)*theta**k))\n",
        "plt.plot(bins, y, linewidth=2, color='r')  \n",
        "plt.show()"
      ],
      "execution_count": null,
      "outputs": [
        {
          "output_type": "display_data",
          "data": {
            "image/png": "[encoded data removed]",
            "text/plain": [
              "<Figure size 432x288 with 1 Axes>"
            ]
          },
          "metadata": {
            "tags": [],
            "needs_background": "light"
          }
        }
      ]
    },
    {
      "cell_type": "markdown",
      "metadata": {
        "id": "LHz6irvLnLNX"
      },
      "source": [
        "Avec $k=2$ et $\\theta = 10$, cela donne $\\mathbb{E}(X) = 20$, et $\\mathbb{Var}(X) = 200$."
      ]
    },
    {
      "cell_type": "code",
      "metadata": {
        "id": "RvffobZsNnVa"
      },
      "source": [
        "# Réalisons le bootstrap\n",
        "\n",
        "frw = []\n",
        "means = []\n",
        "vars = []\n",
        "for i in range(B):\n",
        "  frw.append([weight*atom for (weight,atom) in zip(weights[i], dist)])\n",
        "  means.append(np.mean(frw[i]))"
      ],
      "execution_count": null,
      "outputs": []
    },
    {
      "cell_type": "code",
      "metadata": {
        "colab": {
          "base_uri": "https://localhost:8080/"
        },
        "id": "_DFJRDVqNnYj",
        "outputId": "156972c2-07ec-481f-b05e-7bf8d8686f59"
      },
      "source": [
        "print(\"Espérance de l'échantillon de base :\", round(np.mean(dist), 4))\n",
        "\n",
        "print(\"Espérance moyennne des échantillons bootstrap Efron :\", round(np.mean(bootstrap(dist)), 4))\n",
        "\n",
        "print(\"Espérance moyenne des échantillons bootstrap FRW :\", round(np.mean(means), 4))"
      ],
      "execution_count": null,
      "outputs": [
        {
          "output_type": "stream",
          "text": [
            "Espérance de l'échantillon de base : 199.8425\n",
            "Espérance moyennne des échantillons bootstrap Efron : 200.2678\n",
            "Espérance moyenne des échantillons bootstrap FRW : 199.5284\n"
          ],
          "name": "stdout"
        }
      ]
    },
    {
      "cell_type": "code",
      "metadata": {
        "id": "6glLFvTSwlcU"
      },
      "source": [
        "mean_efron = bootstrap(dist)\n",
        "\n",
        "cintervals_mean_frw = [ci(p, means) for p in (.90, .95, .99, .995)]\n",
        "cintervals_mean_efron = [ci(p,mean_efron) for p in (.90, .95, .99, .995)]"
      ],
      "execution_count": null,
      "outputs": []
    },
    {
      "cell_type": "code",
      "metadata": {
        "colab": {
          "base_uri": "https://localhost:8080/"
        },
        "id": "aTK8RbW7xIJv",
        "outputId": "a984fcbd-b1d7-4522-9d15-aed3cdf04c6a"
      },
      "source": [
        "print(\"Intervalles de confiance pour l'espérance FRW :\", cintervals_mean_frw)\n",
        "print(\"Intervalles de confiance pour l'espérance Efron :\", cintervals_mean_efron)"
      ],
      "execution_count": null,
      "outputs": [
        {
          "output_type": "stream",
          "text": [
            "Intervalles de confiance pour l'espérance FRW : [(192.42, 206.983), (190.972, 208.367), (187.59, 208.876), (187.411, 209.539)]\n",
            "Intervalles de confiance pour l'espérance Efron : [(193.567, 207.105), (192.604, 208.104), (188.341, 211.449), (188.341, 211.449)]\n"
          ],
          "name": "stdout"
        }
      ]
    },
    {
      "cell_type": "markdown",
      "metadata": {
        "id": "8vn-zED_wKUa"
      },
      "source": [
        "Selon les vecteur de poids générés, on peut avoir des résultats différents. Le principal intérêt de cette méthode, est qu'on est sûrs d'avoir chaque donnée de l'échantillon de départ, contrairement à lorsqu'on procède à un bootstrap avec la méthode d'Efron. \n",
        "\n",
        "La distribution est ici asymétrique, avec un très faible nombre d'observations vers la droite. Il se peut que le rééchantillonage selon Efron omette la plupart du temps ces valeurs, et alors il aura une estimation plus faible des paramètres que le bootstrap FRW.\n",
        "\n",
        "C'est donc particulièrement utile lorsque l'estimation d'un paramètre se fait mal quand certaines observations ne sont pas prises en compte dans des échantillons. Le bootstrap FRW est une méthode encore plus généralement applicable que le bootstrap d'Efron, qui performe d'un manière sensiblement équivalente sur des problèmes généraux, et qui est notamment applicable sur des problèmes pour lesquels il y a beaucoup de censure ou des expériences spécifiques dotées de très peu d'observations et/ou de nombreux paramètres.\n"
      ]
    },
    {
      "cell_type": "markdown",
      "metadata": {
        "id": "ol2kdAvFfoY_"
      },
      "source": [
        "## Validité du bootstrap FRW\n",
        "\n",
        "Soit un vecteur $(w_1,...w_n)$ tiré selon une loi de Dirichlet uniforme où chaque composant a été multiplié par $n$.\n",
        "\n",
        "Soient $(X_1,...X_n)$ nos $n$ observations tirées de la distribution originelle dont on cherche à estimer les paramètres.\n",
        "\n",
        "L'estimateur du maximum de vraisemblance pour le paramètre $\\theta$ s'écrit $l(\\theta) = \\frac{1}{n}\\sum_{i=1}^nl_i(\\theta;X_i)$, et sous forme pondérée : $l^*(\\theta) = \\frac{1}{n}\\sum_{i=1}^nw_i*l_i(\\theta; X_i)$. On cherche à montrer que l'estimateur $\\hat{\\theta}^*$, solution de $\\frac{\\partial l^*(\\theta)}{\\partial\\theta} = 0$ est un bon estimateur de $\\theta$.\n",
        "\n",
        "\\\\\n",
        "#### <u> Montrons que l'estimateur $\\hat{\\theta}^*$ est consistant pour $\\theta$ </u> :\n",
        "\n",
        "Par indépendance des $X_i$, donc des $l_i(\\theta;X_i)$, notons $h(\\theta) = \\mathbb{E}(l_i(\\theta; X_i)), \\forall i$.  \n",
        "\n",
        "On a directement par indépendance $\\mathbb{E}(l(\\theta)) = h(\\theta)$, et comme $\\hat{\\theta}$ est consistant, \n",
        "$\\lim\\limits_{n \\rightarrow + \\infty} \\mathbb{Var}(l(\\theta)) = 0$.\n",
        "\n",
        "Pour $l^*(\\theta)$, on a :\n",
        "$$\n",
        "\\begin{aligned}\n",
        "\\mathbb{E}(l^*(\\theta)) &= \\frac{1}{n}\\sum_{i=1}^n\\mathbb{E}(w_i*l_i(\\theta;X_i)) \\\\\n",
        "&= \\frac{1}{n}\\sum_{i=1}^n\\mathbb{E}(w_i)*\\mathbb{E}(l_i(\\theta;X_i))\n",
        "\\end{aligned}\n",
        "$$\n",
        "Par indépendance entre les $w_i$ et les $l_i(\\theta;X_i)$.\n",
        "\n",
        "Or, étant donné la distribution du vecteur $(w_1,...,w_n)$, on sait que $\\mathbb{E}(w_i) = \\mathbb{E}(w_1) = 1$. On a alors:\n",
        "\n",
        "$$\n",
        "\\begin{aligned}\n",
        "\\mathbb{E}(l^*(\\theta)) &= \\frac{1}{n}\\sum_{i=1}^nh(\\theta) \\\\\n",
        "&= h(\\theta)\n",
        "\\end{aligned}\n",
        "$$\n",
        "\n",
        "Et la variance, par le théorème de la variance totale, peut s'écrire:\n",
        "$$\n",
        "\\begin{aligned}\n",
        "\\mathbb{Var}(l^*(\\theta)) &= \\mathbb{Var}(\\mathbb{E}(l^*(\\theta)|X_1,...X_n)) + \\mathbb{E}(\\mathbb{Var}(l^*(\\theta)|X_1,...X_n))\\\\\n",
        "\\end{aligned} \n",
        "$$\n",
        "\n",
        "Le premier terme se calcule facilement:\n",
        "\n",
        "$$\n",
        "\\begin{aligned}\n",
        "\\mathbb{Var}(\\mathbb{E}(l^*(\\theta)|X_1,...X_n)) &= \\mathbb{Var}(\\frac{1}{n}\\sum_{i=1}^n\\mathbb{E}(w_i*l_i(\\theta;X_i)|X_i)) \\\\\n",
        "&= \\mathbb{Var}(\\frac{1}{n}\\sum_{i=1}^nl_i(\\theta;X_i)*\\mathbb{E}(w_i|X_i))\n",
        "\\\\\n",
        "\\text{car  } l_i(\\theta;X_i) \\text{  est  } X_i \\text{-mesurable  } \\forall i\n",
        "\\\\\n",
        "&= \\mathbb{Var}(\\frac{1}{n}\\sum_{i=1}^nl_i(\\theta;X_i)) \\\\\n",
        "&= \\mathbb{Var}(l(\\theta))\n",
        "\\end{aligned}\n",
        "$$\n",
        "\n",
        "Connaissant l'expression de la variance conditionnelle on a :\n",
        "$$\n",
        "\\begin{aligned}\n",
        "\\mathbb{Var}(l^*(\\theta)|X_1,...X_n) &= \\mathbb{E}([l^*(\\theta)-\\mathbb{E}(l^*(\\theta)|X_i)]^2|X_i) \\\\\n",
        "&= \\mathbb{E}([l^*(\\theta) - l(\\theta)]^2|X_i)  \\text{  par l'équation ci dessus} \\\\\n",
        "&= \\mathbb{E}(l^*(\\theta)^2|X_i) - 2\\mathbb{E}(l^*(\\theta)*l(\\theta)|X_i) + \\mathbb{E}(l(\\theta)^2|X_i) \\\\\n",
        "&= \\mathbb{E}(l^*(\\theta)^2|X_i) - l(\\theta)^2 \\text{ , car } l(\\theta)^2 \\text{  est  } X_i\\text{-mesurable, et par ce qui a été fait avant}.\n",
        "\\end{aligned}\n",
        "$$\n",
        "\n",
        "Puis, on a \n",
        "$$\n",
        "\\begin{aligned}\n",
        "\\mathbb{E}(l^*(\\theta)^2|X_i) &= \\mathbb{E}(\\frac{1}{n^2}(\\sum_{i=1}^nw_i*l_i(\\theta;X_i))^2|X_i) \\\\\n",
        "&= \\mathbb{E}(\\frac{1}{n^2}(\\sum_{i=1}^nw_i^2*l_i(\\theta;X_i)^2 + \\sum_{i \\neq j}w_i*w_j*l_i(\\theta;X_i)*l_j(\\theta;X_j))|X_i, X_j) \\\\\n",
        "\n",
        "  \\text{  par indépendance et  } X_i\\text{-mesurabilité}\n",
        "\\\\\n",
        "&= \\frac{1}{n^2}(\\sum_{i=1}^nl_i(\\theta;X_i)^2*\\mathbb{E}(w_i^2|X_i) + \\sum_{i \\neq j}l_i(\\theta;X_i)*l_j(\\theta;X_j)*\\mathbb{E}(w_i|X_i)*\\mathbb{E}(w_j|X_j))\n",
        "\\end{aligned}\n",
        "$$\n",
        "\n",
        "Or, par construction de notre vecteur $(w_1,...w_n)$, on a $\\mathbb{Var}(w_i) = \\frac{n-1}{n+1} = \\mathbb{E}(w_i^2) - \\mathbb{E}(w_i)^2$. Soit $\\mathbb{E}(w_i^2) = \\frac{2n}{n+1}$. D'où \n",
        "\n",
        "$$\n",
        "\\begin{aligned}\n",
        "\\mathbb{E}(l^*(\\theta)^2|X_i) &= \\frac{2}{n(n+1)}\\sum_{i=1}^nl_i(\\theta;X_i)^2 + \\frac{1}{n^2}\\sum_{i \\neq j }l_i(\\theta;X_i)*l_j(\\theta;X_j)\n",
        "\\end{aligned}\n",
        "$$\n",
        "\n",
        "Notre deuxième terme s'écrit alors (par linéarité de l'espérance et indépendance des $l_i(\\theta;X_i)$):\n",
        "$$\n",
        "\\begin{aligned}\n",
        "\\mathbb{E}(\\mathbb{Var}(l^*(\\theta)|X_1,...X_n)) &= \\frac{2}{n(n+1)}\\sum_{i=1}^n\\mathbb{E}(l_i(\\theta;X_i)^2) + \\frac{1}{n^2}\\sum_{i \\neq j }h(\\theta)^2 - \\mathbb{E}(l(\\theta)^2) \\\\\n",
        "&= \\frac{2}{n+1}(\\mathbb{Var}(l_1(\\theta;X_1)) + \\mathbb{E}(l_1(\\theta;X_1))^2) + \\frac{n-1}{n}h(\\theta)^2 - (\\mathbb{Var}(l(\\theta)) + h(\\theta)^2) \\\\\n",
        "&= \\frac{2}{n+1}\\mathbb{Var}(l_1(\\theta;X_1)) - \\mathbb{Var}(l(\\theta)) + (\\frac{2}{n+1} + \\frac{n-1}{n} - 1)h(\\theta)^2 \\\\\n",
        "&= \\frac{2}{n+1}\\mathbb{Var}(l_1(\\theta;X_1)) - \\mathbb{Var}(l(\\theta)) + \\frac{n-1}{n(n+1)}h(\\theta)^2\n",
        "\\end{aligned}\n",
        "$$\n",
        "\n",
        "Enfin, \n",
        "$$\n",
        "\\begin{aligned}\n",
        "\\mathbb{Var}(l^*(\\theta)) &= \\frac{2}{n+1}\\mathbb{Var}(l_1(\\theta;X_1)) + \\frac{n-1}{n(n+1)}h(\\theta)^2 \\\\\n",
        "\\text{ Donc:  }\n",
        "\\lim\\limits_{n \\rightarrow \\infty} \\mathbb{Var}(l^*(\\theta)) = 0\n",
        "\\end{aligned}\n",
        "$$\n",
        "\n",
        "On a donc $l^*(\\theta)$ qui converge vers $h(\\theta)$ par la loi des grands nombres, et $l(\\theta)$ et $l^*(\\theta)$ convergent vers la même fonction $h(\\theta)$. De manière équivalente, les solutions des équations $\\frac{\\partial l(\\theta)}{\\partial\\theta} = 0 $ et $\\frac{\\partial l^*(\\theta)}{\\partial\\theta} = 0$ convergent vers $\\theta$. Ceci prouve la consistance de notre estimateur FRW $\\hat{\\theta}^*$ !\n"
      ]
    },
    {
      "cell_type": "markdown",
      "metadata": {
        "id": "oOdIEFTG0KCg"
      },
      "source": [
        "#IV. Balanced\n",
        "\n",
        "Le balanced bootstrap a pour but de rééchantilloner chaque observation le même nombre de fois pour nos $B$ rééchantillonages. On rééchantillonne alors en suivant une permutation de $B*n$ éléments.\n",
        "\n",
        "Tâchons de l'illustrer sur un exemple:"
      ]
    },
    {
      "cell_type": "code",
      "metadata": {
        "id": "YjzcevQU1GHc",
        "colab": {
          "base_uri": "https://localhost:8080/",
          "height": 265
        },
        "outputId": "8d4aed3a-a8c0-4f44-ae17-61a5c598662f"
      },
      "source": [
        "orig_sample_data = np.random.normal(size=1000)\n",
        "plt.hist(orig_sample_data, bins=100)\n",
        "plt.show()"
      ],
      "execution_count": null,
      "outputs": [
        {
          "output_type": "display_data",
          "data": {
            "image/png": "[encoded data removed]",
            "text/plain": [
              "<Figure size 432x288 with 1 Axes>"
            ]
          },
          "metadata": {
            "tags": [],
            "needs_background": "light"
          }
        }
      ]
    },
    {
      "cell_type": "code",
      "metadata": {
        "id": "XlHA6rwI11gI"
      },
      "source": [
        "def resample_balanced(data, B):\n",
        "  '''Fonction rééchantillonnant B fois à l'aide d'une\n",
        "  permutation créée de len(data)*B valeurs\n",
        "  Renvoie une liste de B listes composées de len(data) éléments\n",
        "  '''\n",
        "  n = len(data)\n",
        "  \n",
        "  # Creating the permutation vector randomly\n",
        "  atoms = np.array([[j for j in range(n)] for i in range(B)]).flatten()\n",
        "  random.shuffle(atoms) # randomize the order\n",
        "  permutation = np.reshape(atoms, (B, n)) # reshape into 2D array of n*n\n",
        "\n",
        "  sample_array = []\n",
        "  for k in range (B):\n",
        "    sample_array.append([data[permutation[k,i]] for i in range(n)])\n",
        "  \n",
        "  return sample_array"
      ],
      "execution_count": null,
      "outputs": []
    },
    {
      "cell_type": "code",
      "metadata": {
        "id": "H8i9lV-A6v15"
      },
      "source": [
        "balanced_samples = resample_balanced(orig_sample_data, 2000) # On créé les échantillons"
      ],
      "execution_count": null,
      "outputs": []
    },
    {
      "cell_type": "code",
      "metadata": {
        "colab": {
          "base_uri": "https://localhost:8080/"
        },
        "id": "8mXULzyd-9PT",
        "outputId": "3c7d0aa5-decb-4476-819e-9ea9043a1399"
      },
      "source": [
        "# Valeurs de notre échantillon originel\n",
        "\n",
        "print('Original sample mean :', np.mean(orig_sample_data) )\n",
        "print('Original sample variance :', np.var(orig_sample_data))"
      ],
      "execution_count": null,
      "outputs": [
        {
          "output_type": "stream",
          "text": [
            "Original sample mean : 0.002767330766544255\n",
            "Original sample variance : 1.0343171545108711\n"
          ],
          "name": "stdout"
        }
      ]
    },
    {
      "cell_type": "code",
      "metadata": {
        "id": "t5dpqe9C68-d",
        "colab": {
          "base_uri": "https://localhost:8080/"
        },
        "outputId": "0a339107-f3b8-4e68-9572-5cec15313124"
      },
      "source": [
        "balanced_mean = []\n",
        "balanced_var = []\n",
        "\n",
        "for i in range (len(balanced_samples)):\n",
        "  balanced_mean.append(np.mean(balanced_samples[i]))\n",
        "  balanced_var.append(np.var(balanced_samples[i]))\n",
        "\n",
        "print('Balanced mean :', np.mean(balanced_mean))\n",
        "print('Balanced variance :', np.mean(balanced_var))"
      ],
      "execution_count": null,
      "outputs": [
        {
          "output_type": "stream",
          "text": [
            "Balanced mean : 0.0027673307665442622\n",
            "Balanced variance : 1.0333419653384188\n"
          ],
          "name": "stdout"
        }
      ]
    },
    {
      "cell_type": "code",
      "metadata": {
        "id": "S55akUE569Bu",
        "colab": {
          "base_uri": "https://localhost:8080/"
        },
        "outputId": "6c35e718-f19c-4444-e02c-dbb90afd0605"
      },
      "source": [
        "# Comparons au bootstrap Efron\n",
        "\n",
        "bootstrap_mean = np.mean(bootstrap(orig_sample_data))\n",
        "bootstrap_var = np.mean(bootstrap(orig_sample_data,func= np.var))\n",
        "print('Bootstrap mean :', bootstrap_mean)\n",
        "print('Bootstrap variance :', bootstrap_var)"
      ],
      "execution_count": null,
      "outputs": [
        {
          "output_type": "stream",
          "text": [
            "Bootstrap mean : 0.00471507149055012\n",
            "Bootstrap variance : 1.0278321125987397\n"
          ],
          "name": "stdout"
        }
      ]
    },
    {
      "cell_type": "markdown",
      "metadata": {
        "id": "CdHcTWL4BnFu"
      },
      "source": [
        "Regardons enfin les intervalles de confiance"
      ]
    },
    {
      "cell_type": "code",
      "metadata": {
        "colab": {
          "base_uri": "https://localhost:8080/"
        },
        "id": "QpTHmLYyAwxp",
        "outputId": "41401780-01b3-4cd2-b925-442c9cdd8b01"
      },
      "source": [
        "efron_var = bootstrap(orig_sample_data, func=np.var)\n",
        "\n",
        "cintervals_var_balanced = [ci(p, balanced_var) for p in (.90, .95, .99, .995)]\n",
        "cintervals_var_efron = [ci(p,efron_var) for p in (.90, .95, .99, .995)]\n",
        "\n",
        "print(\"Intervalles de confiance pour la Variance Balanced :\", cintervals_var_balanced)\n",
        "print(\"Intervalles de confiance pour l'espérance Efron :\", cintervals_var_efron)"
      ],
      "execution_count": null,
      "outputs": [
        {
          "output_type": "stream",
          "text": [
            "Intervalles de confiance pour la Variance Balanced : [(0.959, 1.114), (0.944, 1.129), (0.924, 1.171), (0.909, 1.184)]\n",
            "Intervalles de confiance pour l'espérance Efron : [(0.957, 1.118), (0.941, 1.133), (0.907, 1.142), (0.907, 1.142)]\n"
          ],
          "name": "stdout"
        }
      ]
    },
    {
      "cell_type": "markdown",
      "metadata": {
        "id": "4Jxrbj_dBpww"
      },
      "source": [
        "On ne voit pas de réélle différence encore une fois, entre le bootstrap classique et la méthode employée, cependant on peut en dire 2 choses. D'une part, lorsqu'on emploie cette méthode, la moyenne bootstrap calculée sera toujours égale à celle de notre échantillon originel, toutes les observations étant prises le même nombre de fois. D'autre part, cette méthode réduit la variabilité de l'estimée de la variance.\n",
        "\n",
        "Enfin, de part sa construction, le rééchantillonage n'est plus fait de manière indépendante et identiquement distribuée, ce qui fait perdre les propriétés vues en cours...\n"
      ]
    },
    {
      "cell_type": "markdown",
      "metadata": {
        "id": "tTtm5spQKO4J"
      },
      "source": [
        "#V. Le 'smooth' bootstrap"
      ]
    },
    {
      "cell_type": "markdown",
      "metadata": {
        "id": "Th_DGFTzXPhe"
      },
      "source": [
        "Nous avons vu comment le bootstrap paramétrique et le bootstrap non paramétrique diffèrent selon ce qui est branché dans la fonction statistique.\n",
        "Nous voulons estimer $\\lambda_n(F)$ et nous pouvons utiliser comme estimation soit $\\lambda_n(F_{\\hat{\\theta}})$ soit $\\lambda_n(\\hat{F}_n)$. En fait, il y a un choix intermédiaire, qui prend le cdf empirique $\\hat{F}_n$ et le lisse un peu, puis nous utilisons le cdf empirique lissé désigné par $\\hat{F}_h$ et nous le branchons.\n",
        "\n",
        "C'est particulièrement utile lorsque la distribution bootstrap est trop discrète, surtout lorsque la statistique $\\hat{\\theta}$ est un quantile."
      ]
    },
    {
      "cell_type": "markdown",
      "metadata": {
        "id": "jVDrUE6FYrcv"
      },
      "source": [
        "##Application"
      ]
    },
    {
      "cell_type": "markdown",
      "metadata": {
        "id": "T77rsfcSYgVV"
      },
      "source": [
        "En 1878, Simon Newcomb a fait des observations sur la vitesse de la lumière. L'ensemble des données contient des valeurs aberrantes, qui influencent la moyenne de l'échantillon.\n",
        "\n",
        "Une statistique plus fiable ici est la médiane de l'échantillon, qui est cohérente et non biaisée pour la médiane de la population.\n",
        "\n",
        "La distribution bootstrap pour les données de Newcomb apparaît ci-dessous. Une méthode de régularisation par convolution réduit le caractère discret de la distribution bootstrap en ajoutant une petite quantité de bruit aléatoire $\\mathcal{N}(0, \\sigma^2)$ à chaque échantillon bootstrap. Un choix conventionnel est le suivant :  $\\sigma =1/{\\sqrt {n}}$ pour un échantillon de taille n. \n"
      ]
    },
    {
      "cell_type": "code",
      "metadata": {
        "id": "1jhm_HcyXQIJ"
      },
      "source": [
        "data_speed = [28, 26, 33, 24, 34, -44,27, 16, 40, -2,\n",
        "29, 22, 24, 21, 25, 30, 23, 29, 31, 19,\n",
        "24, 20, 36, 32, 36, 28, 25, 21, 28, 29,\n",
        "37, 25, 28, 26, 30, 32, 36, 26, 30, 22,\n",
        "36, 23, 27, 27, 28, 27, 31, 27, 26, 33,\n",
        "26, 32, 32, 24, 39, 28, 24, 25, 32, 25,\n",
        "29, 27, 28, 29, 16, 23 ]"
      ],
      "execution_count": null,
      "outputs": []
    },
    {
      "cell_type": "code",
      "metadata": {
        "colab": {
          "base_uri": "https://localhost:8080/",
          "height": 265
        },
        "id": "OalW684aZpW8",
        "outputId": "168145f8-8569-4d4b-a0f4-e2250a4c8bda"
      },
      "source": [
        "plt.hist(data_speed)\n",
        "plt.show()"
      ],
      "execution_count": null,
      "outputs": [
        {
          "output_type": "display_data",
          "data": {
            "image/png": "[encoded data removed]",
            "text/plain": [
              "<Figure size 432x288 with 1 Axes>"
            ]
          },
          "metadata": {
            "tags": [],
            "needs_background": "light"
          }
        }
      ]
    },
    {
      "cell_type": "code",
      "metadata": {
        "id": "xu0L0iBLh0Kr"
      },
      "source": [
        "n = len(data_speed)\n",
        "nboot = 100\n",
        "theta_star_smooth = []\n",
        "h = 1\n",
        "fun = np.median\n",
        "for k in range(nboot):\n",
        "  eps = np.random.normal(size = nboot, scale= 1/mt.sqrt(n))\n",
        "  itersample = np.random.choice(data_speed, size=nboot, replace=True)\n",
        "  xb = itersample + h*eps\n",
        "  theta_star_smooth.append(fun(xb))"
      ],
      "execution_count": null,
      "outputs": []
    },
    {
      "cell_type": "code",
      "metadata": {
        "id": "VpGz-9bch_Pj",
        "colab": {
          "base_uri": "https://localhost:8080/",
          "height": 349
        },
        "outputId": "ee34dd74-bc26-499a-dbab-c6a9ad4c4709"
      },
      "source": [
        "plt.hist(theta_star_smooth)"
      ],
      "execution_count": null,
      "outputs": [
        {
          "output_type": "execute_result",
          "data": {
            "text/plain": [
              "(array([ 3.,  2.,  4., 32.,  5.,  9., 41.,  2.,  1.,  1.]),\n",
              " array([26.02673299, 26.32815712, 26.62958126, 26.9310054 , 27.23242954,\n",
              "        27.53385367, 27.83527781, 28.13670195, 28.43812608, 28.73955022,\n",
              "        29.04097436]),\n",
              " <a list of 10 Patch objects>)"
            ]
          },
          "metadata": {
            "tags": []
          },
          "execution_count": 33
        },
        {
          "output_type": "display_data",
          "data": {
            "image/png": "[encoded data removed]",
            "text/plain": [
              "<Figure size 432x288 with 1 Axes>"
            ]
          },
          "metadata": {
            "tags": [],
            "needs_background": "light"
          }
        }
      ]
    },
    {
      "cell_type": "code",
      "metadata": {
        "id": "PMxcyGvErAEI",
        "colab": {
          "base_uri": "https://localhost:8080/",
          "height": 332
        },
        "outputId": "fe49dae3-8009-4000-93b3-9dfae27c3442"
      },
      "source": [
        "theta_star_efron = bootstrap(data_speed,func=np.median)\n",
        "plt.hist(theta_star_efron)"
      ],
      "execution_count": null,
      "outputs": [
        {
          "output_type": "execute_result",
          "data": {
            "text/plain": [
              "(array([16.,  0.,  5.,  0., 40.,  0.,  4.,  0., 34.,  1.]),\n",
              " array([26.  , 26.25, 26.5 , 26.75, 27.  , 27.25, 27.5 , 27.75, 28.  ,\n",
              "        28.25, 28.5 ]),\n",
              " <a list of 10 Patch objects>)"
            ]
          },
          "metadata": {
            "tags": []
          },
          "execution_count": 34
        },
        {
          "output_type": "display_data",
          "data": {
            "image/png": "[encoded data removed]",
            "text/plain": [
              "<Figure size 432x288 with 1 Axes>"
            ]
          },
          "metadata": {
            "tags": [],
            "needs_background": "light"
          }
        }
      ]
    },
    {
      "cell_type": "markdown",
      "metadata": {
        "id": "-RWae62bay9X"
      },
      "source": [
        "Les histogrammes de la distribution bootstrap et de la distribution bootstrap lisse apparaissent ci-dessous. La distribution bootstrap de la médiane de l'échantillon n'a qu'un petit nombre de valeurs. La distribution bootstrap lissée a un support plus riche."
      ]
    },
    {
      "cell_type": "code",
      "metadata": {
        "id": "CkYfBSiFrHaM",
        "colab": {
          "base_uri": "https://localhost:8080/"
        },
        "outputId": "0eaf1005-fff4-40f2-b219-4404a6e1522c"
      },
      "source": [
        "cintervals_bootstrap_efron = [ci(p,theta_star_efron) for p in (.90, .95, .99, .995)]\n",
        "cintervals_bootstrap_smooth =[ci(p,theta_star_smooth) for p in (.90, .95, .99, .995)]\n",
        "print(\"Intervalle de confiance de bootstrap Efron\", cintervals_bootstrap_efron)\n",
        "print(\"Intervalle de confiance de bootstrap smooth\", cintervals_bootstrap_smooth)"
      ],
      "execution_count": null,
      "outputs": [
        {
          "output_type": "stream",
          "text": [
            "Intervalle de confiance de bootstrap Efron [(26.0, 28.0), (26.0, 28.0), (26.0, 28.5), (26.0, 28.5)]\n",
            "Intervalle de confiance de bootstrap smooth [(26.811, 28.108), (26.177, 28.179), (26.027, 29.041), (26.027, 29.041)]\n"
          ],
          "name": "stdout"
        }
      ]
    },
    {
      "cell_type": "markdown",
      "metadata": {
        "id": "d8OmoN3ace6A"
      },
      "source": [
        "Encore une fois il est difficile de conclure sur cet exemple, mais il semblerait que le bootstrap smooth est meilleur.\n",
        "\n",
        "L'intérêt de lisser est donc de changer le support, c'est donc très utile également lorsqu'on veut cacher les données de l'échantillon de base, donc par exemple lorsqu'on manipule des données confidentielles."
      ]
    },
    {
      "cell_type": "markdown",
      "metadata": {
        "id": "jdSduX35dCMZ"
      },
      "source": [
        "#VI. Le Bootstrap de Poisson"
      ]
    },
    {
      "cell_type": "markdown",
      "metadata": {
        "id": "bfvoYTPm0QhW"
      },
      "source": [
        "La méthode du bootstrap par loi de Poisson est une méthode permettant d'exécuter le bootstrap pour des données de taille n très grand."
      ]
    },
    {
      "cell_type": "markdown",
      "metadata": {
        "id": "fLwBXLpT3Euk"
      },
      "source": [
        "La bootstrap Efron crée de nouveaux echantillons par tirage aléatoire avec remise. Dans chaque nouvel échantillon donné, chaque observation peut se produire 0, 1 ou plusieurs fois selon $Binomial\\left(n, \\frac{1}{n}\\right)$. Et comme le nombre total d'observations est limité à n, les comptes sont conjointement $Multinomial\\left(n, \\frac{1}{n}, \\cdots, \\frac{1}{n}\\right)$.\n",
        "\n",
        "Ainsi avec l'observation $[A,B,C,D]$, on peut par exemple construire deux nouveaux echantillons :\n",
        "\n",
        "\n",
        "*   $[A, A, C, D]$\n",
        "*   $[B, C,C,A]$"
      ]
    },
    {
      "cell_type": "markdown",
      "metadata": {
        "id": "fBMC_ex34lAZ"
      },
      "source": [
        "Nous pouvons en fait décrire tout échantillon bootstrap par le nombre d'occurrences de chaque observation. Pour les rééchantillons ci-dessus, ce serait:\n",
        "\n",
        "\n",
        "*   $[2, 0, 1, 1]$\n",
        "*   $[1, 1, 2, 0]$\n",
        "\n",
        "\n"
      ]
    },
    {
      "cell_type": "markdown",
      "metadata": {
        "id": "4juexOc95oig"
      },
      "source": [
        "Le bootstrap d'Efron pose des problèmes de calcul. Pour le calcul parallèle, nous devons prendre des décisions indépendantes quant au nombre de fois où nous devons inclure chaque observation. De plus on pourrait supposer que nos observations $X$  très volumineuses pourraient être réparties sur plusieurs machines différentes. Ainsi, dans le rééchantillon 0, nous voudrions calculer chacun des comptes {0,1,1,2} indépendamment. Mais la somme des comptes dans la distribution multinomiale est fixe. "
      ]
    },
    {
      "cell_type": "markdown",
      "metadata": {
        "id": "25C7dsRt649P"
      },
      "source": [
        "Ainsi dans cette situation de données tres volumineuses (n très grand), pour calculer l'occurence d'une observation dans l'échantillon i nous pouvons utiliser le fait que \n",
        "\n",
        "$\\lim _{n \\rightarrow \\infty} \\operatorname{Binomial}\\left(n, \\frac{1}{n}\\right)=Poisson(1)$. \n",
        "\n",
        "Chaque occurence, dans un nouvel échantillon suit donc la loi $P(1)$.\n",
        "\n",
        "De plus on utilise que pour $n$ tres grand, la loi $P(1)$ étant d'espérance 1, le nombre d'occurences total pour l'echantillon i est environ $n$. ($LGN$)"
      ]
    },
    {
      "cell_type": "markdown",
      "metadata": {
        "id": "Fyr0i2nM-l-K"
      },
      "source": [
        "## Application "
      ]
    },
    {
      "cell_type": "markdown",
      "metadata": {
        "id": "ku7PJAJr-r7r"
      },
      "source": [
        "On génère $n$ observations.\n",
        "\n",
        "On applique l'algorithme du bootstrap Poisson."
      ]
    },
    {
      "cell_type": "code",
      "metadata": {
        "colab": {
          "base_uri": "https://localhost:8080/"
        },
        "id": "42b0JigLpYhQ",
        "outputId": "2c33db72-06a0-4e75-cb59-e8cb10125e0c"
      },
      "source": [
        "%%time\n",
        "n= 10000\n",
        "B= 500\n",
        "pop = np.random.normal(size =n )"
      ],
      "execution_count": null,
      "outputs": [
        {
          "output_type": "stream",
          "text": [
            "CPU times: user 870 µs, sys: 0 ns, total: 870 µs\n",
            "Wall time: 1.41 ms\n"
          ],
          "name": "stdout"
        }
      ]
    },
    {
      "cell_type": "code",
      "metadata": {
        "colab": {
          "base_uri": "https://localhost:8080/"
        },
        "id": "DwX6ev9wqS0U",
        "outputId": "3ede49ff-e83b-40cd-c3e0-90515559dcad"
      },
      "source": [
        "# Poisson Bootstrap \n",
        "%%time\n",
        "theta_star = []\n",
        "for k in range(B):  \n",
        "  indice = np.random.poisson(size=(n)) \n",
        "  theta_star_k = sum(indice*pop)/n\n",
        "  theta_star.append(theta_star_k)"
      ],
      "execution_count": null,
      "outputs": [
        {
          "output_type": "stream",
          "text": [
            "CPU times: user 1.19 s, sys: 1.57 ms, total: 1.19 s\n",
            "Wall time: 1.21 s\n"
          ],
          "name": "stdout"
        }
      ]
    },
    {
      "cell_type": "code",
      "metadata": {
        "colab": {
          "base_uri": "https://localhost:8080/",
          "height": 350
        },
        "id": "XkbkQrAg_rrI",
        "outputId": "61ea6f96-e1ad-4aa3-fc7c-aab270ec9e28"
      },
      "source": [
        "plt.hist(theta_star)"
      ],
      "execution_count": null,
      "outputs": [
        {
          "output_type": "execute_result",
          "data": {
            "text/plain": [
              "(array([ 11.,  29.,  43.,  80., 112., 116.,  50.,  37.,  17.,   5.]),\n",
              " array([-0.03132288, -0.0260203 , -0.02071771, -0.01541513, -0.01011254,\n",
              "        -0.00480995,  0.00049263,  0.00579522,  0.0110978 ,  0.01640039,\n",
              "         0.02170298]),\n",
              " <a list of 10 Patch objects>)"
            ]
          },
          "metadata": {
            "tags": []
          },
          "execution_count": 38
        },
        {
          "output_type": "display_data",
          "data": {
            "image/png": "[encoded data removed]",
            "text/plain": [
              "<Figure size 432x288 with 1 Axes>"
            ]
          },
          "metadata": {
            "tags": [],
            "needs_background": "light"
          }
        }
      ]
    },
    {
      "cell_type": "code",
      "metadata": {
        "colab": {
          "base_uri": "https://localhost:8080/"
        },
        "id": "dJRsFIOlrjnf",
        "outputId": "5e5816f7-e879-4349-cd30-ee4300e4305e"
      },
      "source": [
        "# Efron bootstrap\n",
        "%%time\n",
        "theta_star = []\n",
        "for k in range(B):  # generate a bootstrap sample a each time n\n",
        "  itersample = np.random.choice(pop, size=n, replace=True)\n",
        "  theta_star_i = itersample.mean()\n",
        "  theta_star.append(theta_star_i)"
      ],
      "execution_count": null,
      "outputs": [
        {
          "output_type": "stream",
          "text": [
            "CPU times: user 113 ms, sys: 819 µs, total: 113 ms\n",
            "Wall time: 117 ms\n"
          ],
          "name": "stdout"
        }
      ]
    },
    {
      "cell_type": "code",
      "metadata": {
        "colab": {
          "base_uri": "https://localhost:8080/",
          "height": 349
        },
        "id": "Xq8csAR2_2UQ",
        "outputId": "ffea1a46-6b45-4c5f-c905-a93e4e2acea3"
      },
      "source": [
        "plt.hist(theta_star)"
      ],
      "execution_count": null,
      "outputs": [
        {
          "output_type": "execute_result",
          "data": {
            "text/plain": [
              "(array([  7.,  26.,  79., 115., 127.,  90.,  40.,  12.,   2.,   2.]),\n",
              " array([-3.34581115e-02, -2.67845716e-02, -2.01110317e-02, -1.34374919e-02,\n",
              "        -6.76395196e-03, -9.04120670e-05,  6.58312783e-03,  1.32566677e-02,\n",
              "         1.99302076e-02,  2.66037475e-02,  3.32772874e-02]),\n",
              " <a list of 10 Patch objects>)"
            ]
          },
          "metadata": {
            "tags": []
          },
          "execution_count": 40
        },
        {
          "output_type": "display_data",
          "data": {
            "image/png": "[encoded data removed]",
            "text/plain": [
              "<Figure size 432x288 with 1 Axes>"
            ]
          },
          "metadata": {
            "tags": [],
            "needs_background": "light"
          }
        }
      ]
    },
    {
      "cell_type": "markdown",
      "metadata": {
        "id": "MLT8SLLG_7pj"
      },
      "source": [
        "Nous remarquons que le Poisson bootstrap n'est ici pas plus rapide que le bootstrap Efron. Cependant on comprend qu'il peut être une solution viable pour des données très volumineuses réparties sur plusieurs machines."
      ]
    },
    {
      "cell_type": "markdown",
      "metadata": {
        "id": "YhvR0doGOToJ"
      },
      "source": [
        "# Conclusion\n",
        "\n",
        "Nous avons donc vu plusieurs manières de rééchantillonner un jeu de données pour calculer des estimateurs. Chaque méthode a ses avantages, et dans des cas plus ou moins précis, elles peuvent mieux performer que le bootstrap selon la méthode proposée par Efron.\n",
        "\n",
        "Malgré cela, on peut retenir que le bootstrap est une méthode puissante pour estimer avec confiance, et se réalise très bien avec un rééchantillonage aléatoire avec remise."
      ]
    }
  ]
}